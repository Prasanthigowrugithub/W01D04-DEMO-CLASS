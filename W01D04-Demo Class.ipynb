{
 "cells": [
  {
   "cell_type": "markdown",
   "id": "ed35fa45",
   "metadata": {},
   "source": [
    "### Operators in python"
   ]
  },
  {
   "cell_type": "markdown",
   "id": "99f36f48",
   "metadata": {},
   "source": [
    "### 1) Arithmetic operators:+,-,*,/,//,%,**"
   ]
  },
  {
   "cell_type": "code",
   "execution_count": 3,
   "id": "2d611e42",
   "metadata": {},
   "outputs": [],
   "source": [
    "num1=10\n",
    "num2=20"
   ]
  },
  {
   "cell_type": "code",
   "execution_count": 4,
   "id": "30fb2346",
   "metadata": {},
   "outputs": [
    {
     "name": "stdout",
     "output_type": "stream",
     "text": [
      "30\n"
     ]
    }
   ],
   "source": [
    "print(num1+num2)"
   ]
  },
  {
   "cell_type": "code",
   "execution_count": 5,
   "id": "c74dfaf2",
   "metadata": {},
   "outputs": [
    {
     "name": "stdout",
     "output_type": "stream",
     "text": [
      "-10\n"
     ]
    }
   ],
   "source": [
    "print(num1-num2)"
   ]
  },
  {
   "cell_type": "code",
   "execution_count": 6,
   "id": "0e97fe3b",
   "metadata": {},
   "outputs": [
    {
     "name": "stdout",
     "output_type": "stream",
     "text": [
      "200\n"
     ]
    }
   ],
   "source": [
    "print(num1*num2)"
   ]
  },
  {
   "cell_type": "code",
   "execution_count": 7,
   "id": "a2db17ce",
   "metadata": {},
   "outputs": [
    {
     "name": "stdout",
     "output_type": "stream",
     "text": [
      "0.5\n"
     ]
    }
   ],
   "source": [
    "print(num1/num2)"
   ]
  },
  {
   "cell_type": "code",
   "execution_count": 8,
   "id": "113ef768",
   "metadata": {},
   "outputs": [
    {
     "name": "stdout",
     "output_type": "stream",
     "text": [
      "0\n"
     ]
    }
   ],
   "source": [
    "print(num1//num2)"
   ]
  },
  {
   "cell_type": "code",
   "execution_count": 9,
   "id": "e2c189ed",
   "metadata": {},
   "outputs": [
    {
     "name": "stdout",
     "output_type": "stream",
     "text": [
      "10\n"
     ]
    }
   ],
   "source": [
    "print(num1%num2)"
   ]
  },
  {
   "cell_type": "code",
   "execution_count": 10,
   "id": "72d7cac8",
   "metadata": {},
   "outputs": [
    {
     "name": "stdout",
     "output_type": "stream",
     "text": [
      "100000000000000000000\n"
     ]
    }
   ],
   "source": [
    "print(num1**num2)"
   ]
  },
  {
   "cell_type": "markdown",
   "id": "0b4fcd47",
   "metadata": {},
   "source": [
    "### 2)Comparison operators:<,>,<=,>=,==,!="
   ]
  },
  {
   "cell_type": "code",
   "execution_count": 11,
   "id": "ccb6a377",
   "metadata": {},
   "outputs": [],
   "source": [
    "num1=100\n",
    "num2=200"
   ]
  },
  {
   "cell_type": "code",
   "execution_count": 12,
   "id": "8f575c56",
   "metadata": {},
   "outputs": [
    {
     "name": "stdout",
     "output_type": "stream",
     "text": [
      "False\n"
     ]
    }
   ],
   "source": [
    "print(num1==num2)"
   ]
  },
  {
   "cell_type": "code",
   "execution_count": 13,
   "id": "5e0cf3d8",
   "metadata": {},
   "outputs": [
    {
     "name": "stdout",
     "output_type": "stream",
     "text": [
      "True\n"
     ]
    }
   ],
   "source": [
    "print(num1<num2)"
   ]
  },
  {
   "cell_type": "code",
   "execution_count": 14,
   "id": "d02a261f",
   "metadata": {},
   "outputs": [
    {
     "name": "stdout",
     "output_type": "stream",
     "text": [
      "False\n"
     ]
    }
   ],
   "source": [
    "print(num1>num2)"
   ]
  },
  {
   "cell_type": "code",
   "execution_count": 15,
   "id": "09dc703b",
   "metadata": {},
   "outputs": [
    {
     "name": "stdout",
     "output_type": "stream",
     "text": [
      "True\n"
     ]
    }
   ],
   "source": [
    "print(num1<=num2)"
   ]
  },
  {
   "cell_type": "code",
   "execution_count": 16,
   "id": "706f670f",
   "metadata": {},
   "outputs": [
    {
     "name": "stdout",
     "output_type": "stream",
     "text": [
      "False\n"
     ]
    }
   ],
   "source": [
    "print(num1>=num2)"
   ]
  },
  {
   "cell_type": "code",
   "execution_count": 17,
   "id": "849d1875",
   "metadata": {},
   "outputs": [
    {
     "name": "stdout",
     "output_type": "stream",
     "text": [
      "True\n"
     ]
    }
   ],
   "source": [
    "print(num1!=num2)"
   ]
  },
  {
   "cell_type": "markdown",
   "id": "0982b6ac",
   "metadata": {},
   "source": [
    "### Identity operators is is not"
   ]
  },
  {
   "cell_type": "code",
   "execution_count": 18,
   "id": "58cf4c18",
   "metadata": {},
   "outputs": [],
   "source": [
    "num1=100\n",
    "num2=100"
   ]
  },
  {
   "cell_type": "code",
   "execution_count": 19,
   "id": "5eec56eb",
   "metadata": {},
   "outputs": [
    {
     "name": "stdout",
     "output_type": "stream",
     "text": [
      "True\n"
     ]
    }
   ],
   "source": [
    "print(num1==num2)"
   ]
  },
  {
   "cell_type": "code",
   "execution_count": 20,
   "id": "70ac83cf",
   "metadata": {},
   "outputs": [
    {
     "name": "stdout",
     "output_type": "stream",
     "text": [
      "True\n"
     ]
    }
   ],
   "source": [
    "print(num1 is num2)"
   ]
  },
  {
   "cell_type": "markdown",
   "id": "ba726bee",
   "metadata": {},
   "source": [
    "### instrations:\n",
    "#### \"==\" is compare the values\n",
    "#### \"is\" is compare the memory allocation"
   ]
  },
  {
   "cell_type": "code",
   "execution_count": 21,
   "id": "1a384bab",
   "metadata": {},
   "outputs": [],
   "source": [
    "a=(10,20,30)\n",
    "b=(10,20,30)"
   ]
  },
  {
   "cell_type": "code",
   "execution_count": 22,
   "id": "b0f9f977",
   "metadata": {},
   "outputs": [
    {
     "name": "stdout",
     "output_type": "stream",
     "text": [
      "True\n"
     ]
    }
   ],
   "source": [
    "print(a==b)"
   ]
  },
  {
   "cell_type": "code",
   "execution_count": 23,
   "id": "fcb59901",
   "metadata": {},
   "outputs": [
    {
     "name": "stdout",
     "output_type": "stream",
     "text": [
      "False\n"
     ]
    }
   ],
   "source": [
    "print(a is b)"
   ]
  },
  {
   "cell_type": "code",
   "execution_count": 26,
   "id": "c742209b",
   "metadata": {},
   "outputs": [
    {
     "name": "stdout",
     "output_type": "stream",
     "text": [
      "True\n"
     ]
    }
   ],
   "source": [
    "print(a is not b)"
   ]
  },
  {
   "cell_type": "markdown",
   "id": "87a5cd6b",
   "metadata": {},
   "source": [
    "### Assiagment operaters: =,+=,-=,*=,/="
   ]
  },
  {
   "cell_type": "code",
   "execution_count": null,
   "id": "c23213b4",
   "metadata": {},
   "outputs": [],
   "source": [
    "num1=100"
   ]
  },
  {
   "cell_type": "code",
   "execution_count": 41,
   "id": "0e2fa7c1",
   "metadata": {},
   "outputs": [
    {
     "name": "stdout",
     "output_type": "stream",
     "text": [
      "105.0\n"
     ]
    }
   ],
   "source": [
    "num1+=5\n",
    "print(num1)"
   ]
  },
  {
   "cell_type": "code",
   "execution_count": 38,
   "id": "b460f4f8",
   "metadata": {},
   "outputs": [
    {
     "name": "stdout",
     "output_type": "stream",
     "text": [
      "100\n"
     ]
    }
   ],
   "source": [
    "num1-=5\n",
    "print(num1)"
   ]
  },
  {
   "cell_type": "code",
   "execution_count": 39,
   "id": "5f8e33a5",
   "metadata": {},
   "outputs": [
    {
     "name": "stdout",
     "output_type": "stream",
     "text": [
      "500\n"
     ]
    }
   ],
   "source": [
    "num1*=5\n",
    "print(num1)"
   ]
  },
  {
   "cell_type": "code",
   "execution_count": 40,
   "id": "f272c048",
   "metadata": {},
   "outputs": [
    {
     "name": "stdout",
     "output_type": "stream",
     "text": [
      "100.0\n"
     ]
    }
   ],
   "source": [
    "num1/=5\n",
    "print(num1)"
   ]
  },
  {
   "cell_type": "markdown",
   "id": "f9a14d56",
   "metadata": {},
   "source": [
    "### Bitwise operators:&,|,^,>>,<<"
   ]
  },
  {
   "cell_type": "code",
   "execution_count": 43,
   "id": "180fec4b",
   "metadata": {},
   "outputs": [
    {
     "name": "stdout",
     "output_type": "stream",
     "text": [
      "0b10\n"
     ]
    }
   ],
   "source": [
    "num1=2\n",
    "print(bin(num1))"
   ]
  },
  {
   "cell_type": "code",
   "execution_count": 44,
   "id": "fb7f37c8",
   "metadata": {},
   "outputs": [
    {
     "name": "stdout",
     "output_type": "stream",
     "text": [
      "0b10 0b1\n"
     ]
    }
   ],
   "source": [
    "num1=2\n",
    "num2=1\n",
    "print(bin(num1),bin(num2))"
   ]
  },
  {
   "cell_type": "code",
   "execution_count": 45,
   "id": "f107859d",
   "metadata": {},
   "outputs": [
    {
     "name": "stdout",
     "output_type": "stream",
     "text": [
      "0\n"
     ]
    }
   ],
   "source": [
    "print(num1&num2)"
   ]
  },
  {
   "cell_type": "code",
   "execution_count": 46,
   "id": "27b4e72b",
   "metadata": {},
   "outputs": [
    {
     "name": "stdout",
     "output_type": "stream",
     "text": [
      "3\n"
     ]
    }
   ],
   "source": [
    "print(num1|num2)"
   ]
  },
  {
   "cell_type": "code",
   "execution_count": 47,
   "id": "4c58ae5a",
   "metadata": {},
   "outputs": [
    {
     "name": "stdout",
     "output_type": "stream",
     "text": [
      "1\n"
     ]
    }
   ],
   "source": [
    "print(num1>>num2)"
   ]
  },
  {
   "cell_type": "code",
   "execution_count": 48,
   "id": "e93f77e3",
   "metadata": {},
   "outputs": [
    {
     "name": "stdout",
     "output_type": "stream",
     "text": [
      "4\n"
     ]
    }
   ],
   "source": [
    "print(num1<<num2)"
   ]
  },
  {
   "cell_type": "markdown",
   "id": "1f1de454",
   "metadata": {},
   "source": [
    "### Logical operators: and or not"
   ]
  },
  {
   "cell_type": "code",
   "execution_count": 49,
   "id": "6c727509",
   "metadata": {},
   "outputs": [
    {
     "name": "stdout",
     "output_type": "stream",
     "text": [
      "True\n"
     ]
    }
   ],
   "source": [
    "print(10==10 and 20==20)"
   ]
  },
  {
   "cell_type": "code",
   "execution_count": 50,
   "id": "923cace7",
   "metadata": {},
   "outputs": [
    {
     "name": "stdout",
     "output_type": "stream",
     "text": [
      "False\n"
     ]
    }
   ],
   "source": [
    "print(10==15 and 20==20)"
   ]
  },
  {
   "cell_type": "code",
   "execution_count": 51,
   "id": "2041b4a5",
   "metadata": {},
   "outputs": [
    {
     "name": "stdout",
     "output_type": "stream",
     "text": [
      "True\n"
     ]
    }
   ],
   "source": [
    "print(10==10 or 20==20)"
   ]
  },
  {
   "cell_type": "code",
   "execution_count": 53,
   "id": "ab6166ce",
   "metadata": {},
   "outputs": [
    {
     "name": "stdout",
     "output_type": "stream",
     "text": [
      "False\n"
     ]
    }
   ],
   "source": [
    "print(not(10==10))"
   ]
  },
  {
   "cell_type": "markdown",
   "id": "e45097e1",
   "metadata": {},
   "source": [
    "### membership operators : in not in"
   ]
  },
  {
   "cell_type": "code",
   "execution_count": 57,
   "id": "fc224427",
   "metadata": {},
   "outputs": [
    {
     "name": "stdout",
     "output_type": "stream",
     "text": [
      "True\n"
     ]
    }
   ],
   "source": [
    "a = [1,2,3,5,9]\n",
    "print(9 in a)"
   ]
  },
  {
   "cell_type": "code",
   "execution_count": 58,
   "id": "d00ee35c",
   "metadata": {},
   "outputs": [
    {
     "name": "stdout",
     "output_type": "stream",
     "text": [
      "False\n"
     ]
    }
   ],
   "source": [
    "a = [1,2,3,5,9]\n",
    "print(10 in a)"
   ]
  },
  {
   "cell_type": "code",
   "execution_count": 59,
   "id": "f763f886",
   "metadata": {},
   "outputs": [
    {
     "name": "stdout",
     "output_type": "stream",
     "text": [
      "True\n"
     ]
    }
   ],
   "source": [
    "B = \"Prasanthi Gowru\"\n",
    "print(\"Prasanthi\" in B)"
   ]
  },
  {
   "cell_type": "code",
   "execution_count": 60,
   "id": "9fc6d944",
   "metadata": {},
   "outputs": [
    {
     "name": "stdout",
     "output_type": "stream",
     "text": [
      "False\n"
     ]
    }
   ],
   "source": [
    "B = \"Prasanthi Gowru\"\n",
    "print(\"prasanthi\" in B)"
   ]
  },
  {
   "cell_type": "code",
   "execution_count": 61,
   "id": "c2c2dc9a",
   "metadata": {},
   "outputs": [
    {
     "name": "stdout",
     "output_type": "stream",
     "text": [
      "False\n"
     ]
    }
   ],
   "source": [
    "B = \"Prasanthi Gowru\"\n",
    "print(\"Prasanthi\" not in B)"
   ]
  },
  {
   "cell_type": "code",
   "execution_count": null,
   "id": "8d644cc7",
   "metadata": {},
   "outputs": [],
   "source": []
  }
 ],
 "metadata": {
  "kernelspec": {
   "display_name": "Python 3 (ipykernel)",
   "language": "python",
   "name": "python3"
  },
  "language_info": {
   "codemirror_mode": {
    "name": "ipython",
    "version": 3
   },
   "file_extension": ".py",
   "mimetype": "text/x-python",
   "name": "python",
   "nbconvert_exporter": "python",
   "pygments_lexer": "ipython3",
   "version": "3.10.6"
  }
 },
 "nbformat": 4,
 "nbformat_minor": 5
}
